{
 "cells": [
  {
   "cell_type": "code",
   "execution_count": 1,
   "metadata": {},
   "outputs": [
    {
     "name": "stderr",
     "output_type": "stream",
     "text": [
      "C:\\Users\\beiru.wang\\AppData\\Roaming\\Python\\Python39\\site-packages\\pandas\\core\\computation\\expressions.py:21: UserWarning: Pandas requires version '2.8.4' or newer of 'numexpr' (version '2.8.3' currently installed).\n",
      "  from pandas.core.computation.check import NUMEXPR_INSTALLED\n",
      "C:\\Users\\beiru.wang\\AppData\\Roaming\\Python\\Python39\\site-packages\\pandas\\core\\arrays\\masked.py:60: UserWarning: Pandas requires version '1.3.6' or newer of 'bottleneck' (version '1.3.5' currently installed).\n",
      "  from pandas.core import (\n"
     ]
    }
   ],
   "source": [
    "import pandas as pd\n",
    "IVR_ACD_data = pd.read_csv('C:/Users/beiru.wang/Desktop/週期性報表/IVR+ACD.txt')"
   ]
  },
  {
   "cell_type": "code",
   "execution_count": 2,
   "metadata": {},
   "outputs": [
    {
     "data": {
      "text/html": [
       "<div>\n",
       "<style scoped>\n",
       "    .dataframe tbody tr th:only-of-type {\n",
       "        vertical-align: middle;\n",
       "    }\n",
       "\n",
       "    .dataframe tbody tr th {\n",
       "        vertical-align: top;\n",
       "    }\n",
       "\n",
       "    .dataframe thead th {\n",
       "        text-align: right;\n",
       "    }\n",
       "</style>\n",
       "<table border=\"1\" class=\"dataframe\">\n",
       "  <thead>\n",
       "    <tr style=\"text-align: right;\">\n",
       "      <th></th>\n",
       "      <th>DATES</th>\n",
       "      <th>total_count</th>\n",
       "      <th>ivr_count</th>\n",
       "      <th>acd_count</th>\n",
       "      <th>ivr_number_count</th>\n",
       "      <th>acd_number_count</th>\n",
       "    </tr>\n",
       "  </thead>\n",
       "  <tbody>\n",
       "    <tr>\n",
       "      <th>0</th>\n",
       "      <td>2023/01/01</td>\n",
       "      <td>3551</td>\n",
       "      <td>3551</td>\n",
       "      <td>2179</td>\n",
       "      <td>2271</td>\n",
       "      <td>1713</td>\n",
       "    </tr>\n",
       "    <tr>\n",
       "      <th>1</th>\n",
       "      <td>2023/01/02</td>\n",
       "      <td>4167</td>\n",
       "      <td>4167</td>\n",
       "      <td>2617</td>\n",
       "      <td>2658</td>\n",
       "      <td>2051</td>\n",
       "    </tr>\n",
       "    <tr>\n",
       "      <th>2</th>\n",
       "      <td>2023/01/03</td>\n",
       "      <td>7572</td>\n",
       "      <td>7572</td>\n",
       "      <td>4657</td>\n",
       "      <td>4462</td>\n",
       "      <td>3343</td>\n",
       "    </tr>\n",
       "    <tr>\n",
       "      <th>3</th>\n",
       "      <td>2023/01/04</td>\n",
       "      <td>5891</td>\n",
       "      <td>5891</td>\n",
       "      <td>3747</td>\n",
       "      <td>3711</td>\n",
       "      <td>2884</td>\n",
       "    </tr>\n",
       "    <tr>\n",
       "      <th>4</th>\n",
       "      <td>2023/01/05</td>\n",
       "      <td>5363</td>\n",
       "      <td>5363</td>\n",
       "      <td>3446</td>\n",
       "      <td>3512</td>\n",
       "      <td>2776</td>\n",
       "    </tr>\n",
       "    <tr>\n",
       "      <th>...</th>\n",
       "      <td>...</td>\n",
       "      <td>...</td>\n",
       "      <td>...</td>\n",
       "      <td>...</td>\n",
       "      <td>...</td>\n",
       "      <td>...</td>\n",
       "    </tr>\n",
       "    <tr>\n",
       "      <th>615</th>\n",
       "      <td>2024/09/07</td>\n",
       "      <td>4029</td>\n",
       "      <td>4029</td>\n",
       "      <td>2688</td>\n",
       "      <td>2554</td>\n",
       "      <td>2055</td>\n",
       "    </tr>\n",
       "    <tr>\n",
       "      <th>616</th>\n",
       "      <td>2024/09/08</td>\n",
       "      <td>3030</td>\n",
       "      <td>3030</td>\n",
       "      <td>1894</td>\n",
       "      <td>1931</td>\n",
       "      <td>1513</td>\n",
       "    </tr>\n",
       "    <tr>\n",
       "      <th>617</th>\n",
       "      <td>2024/09/09</td>\n",
       "      <td>5072</td>\n",
       "      <td>5072</td>\n",
       "      <td>2949</td>\n",
       "      <td>3252</td>\n",
       "      <td>2418</td>\n",
       "    </tr>\n",
       "    <tr>\n",
       "      <th>618</th>\n",
       "      <td>2024/09/10</td>\n",
       "      <td>4269</td>\n",
       "      <td>4269</td>\n",
       "      <td>2696</td>\n",
       "      <td>2740</td>\n",
       "      <td>2163</td>\n",
       "    </tr>\n",
       "    <tr>\n",
       "      <th>619</th>\n",
       "      <td>2024/09/11</td>\n",
       "      <td>1391</td>\n",
       "      <td>1391</td>\n",
       "      <td>922</td>\n",
       "      <td>991</td>\n",
       "      <td>782</td>\n",
       "    </tr>\n",
       "  </tbody>\n",
       "</table>\n",
       "<p>620 rows × 6 columns</p>\n",
       "</div>"
      ],
      "text/plain": [
       "          DATES  total_count  ivr_count  acd_count  ivr_number_count  \\\n",
       "0    2023/01/01         3551       3551       2179              2271   \n",
       "1    2023/01/02         4167       4167       2617              2658   \n",
       "2    2023/01/03         7572       7572       4657              4462   \n",
       "3    2023/01/04         5891       5891       3747              3711   \n",
       "4    2023/01/05         5363       5363       3446              3512   \n",
       "..          ...          ...        ...        ...               ...   \n",
       "615  2024/09/07         4029       4029       2688              2554   \n",
       "616  2024/09/08         3030       3030       1894              1931   \n",
       "617  2024/09/09         5072       5072       2949              3252   \n",
       "618  2024/09/10         4269       4269       2696              2740   \n",
       "619  2024/09/11         1391       1391        922               991   \n",
       "\n",
       "     acd_number_count  \n",
       "0                1713  \n",
       "1                2051  \n",
       "2                3343  \n",
       "3                2884  \n",
       "4                2776  \n",
       "..                ...  \n",
       "615              2055  \n",
       "616              1513  \n",
       "617              2418  \n",
       "618              2163  \n",
       "619               782  \n",
       "\n",
       "[620 rows x 6 columns]"
      ]
     },
     "execution_count": 2,
     "metadata": {},
     "output_type": "execute_result"
    }
   ],
   "source": [
    "IVR_ACD_data"
   ]
  },
  {
   "cell_type": "code",
   "execution_count": 3,
   "metadata": {},
   "outputs": [
    {
     "data": {
      "application/vnd.plotly.v1+json": {
       "config": {
        "plotlyServerURL": "https://plot.ly"
       },
       "data": [
        {
         "marker": {
          "color": "lightblue"
         },
         "name": "2023 IVR 進線數",
         "text": [
          155938,
          132526,
          154073,
          140663,
          170054,
          159832,
          162257,
          165113,
          148962,
          152469,
          153999,
          155859
         ],
         "textposition": "outside",
         "type": "bar",
         "x": [
          "Jan",
          "Feb",
          "Mar",
          "Apr",
          "May",
          "Jun",
          "Jul",
          "Aug",
          "Sep",
          "Oct",
          "Nov",
          "Dec"
         ],
         "xaxis": "x",
         "y": [
          155938,
          132526,
          154073,
          140663,
          170054,
          159832,
          162257,
          165113,
          148962,
          152469,
          153999,
          155859
         ],
         "yaxis": "y"
        },
        {
         "marker": {
          "color": "lightblue"
         },
         "name": "2024 IVR 進線數",
         "text": [
          162062,
          125274,
          164204,
          147861,
          145184,
          185779,
          195952,
          154587,
          46698
         ],
         "textposition": "outside",
         "type": "bar",
         "x": [
          "Jan",
          "Feb",
          "Mar",
          "Apr",
          "May",
          "Jun",
          "Jul",
          "Aug",
          "Sep"
         ],
         "xaxis": "x",
         "y": [
          162062,
          125274,
          164204,
          147861,
          145184,
          185779,
          195952,
          154587,
          46698
         ],
         "yaxis": "y"
        },
        {
         "marker": {
          "color": "darkblue"
         },
         "name": "2023 IVR 號碼數",
         "text": [
          96891,
          86962,
          98584,
          87213,
          103727,
          98231,
          102725,
          104769,
          93992,
          94146,
          93300,
          96248
         ],
         "textangle": 0,
         "textposition": "inside",
         "type": "bar",
         "x": [
          "Jan",
          "Feb",
          "Mar",
          "Apr",
          "May",
          "Jun",
          "Jul",
          "Aug",
          "Sep",
          "Oct",
          "Nov",
          "Dec"
         ],
         "xaxis": "x",
         "y": [
          96891,
          86962,
          98584,
          87213,
          103727,
          98231,
          102725,
          104769,
          93992,
          94146,
          93300,
          96248
         ],
         "yaxis": "y2"
        },
        {
         "marker": {
          "color": "darkblue"
         },
         "name": "2024 IVR 號碼數",
         "text": [
          95661,
          76171,
          99653,
          91372,
          90243,
          98937,
          112925,
          96657,
          29944
         ],
         "textangle": 0,
         "textposition": "inside",
         "type": "bar",
         "x": [
          "Jan",
          "Feb",
          "Mar",
          "Apr",
          "May",
          "Jun",
          "Jul",
          "Aug",
          "Sep"
         ],
         "xaxis": "x",
         "y": [
          95661,
          76171,
          99653,
          91372,
          90243,
          98937,
          112925,
          96657,
          29944
         ],
         "yaxis": "y2"
        },
        {
         "marker": {
          "color": "#dda0dd"
         },
         "name": "2023 ACD 進線數",
         "text": [
          100684,
          87745,
          102821,
          93892,
          113393,
          103274,
          103975,
          109806,
          100709,
          100911,
          98464,
          99029
         ],
         "textposition": "outside",
         "type": "bar",
         "x": [
          "Jan",
          "Feb",
          "Mar",
          "Apr",
          "May",
          "Jun",
          "Jul",
          "Aug",
          "Sep",
          "Oct",
          "Nov",
          "Dec"
         ],
         "xaxis": "x2",
         "y": [
          100684,
          87745,
          102821,
          93892,
          113393,
          103274,
          103975,
          109806,
          100709,
          100911,
          98464,
          99029
         ],
         "yaxis": "y3"
        },
        {
         "marker": {
          "color": "#dda0dd"
         },
         "name": "2024 ACD 進線數",
         "text": [
          97575,
          80373,
          101571,
          88639,
          88086,
          92756,
          113059,
          92230,
          28401
         ],
         "textposition": "outside",
         "type": "bar",
         "x": [
          "Jan",
          "Feb",
          "Mar",
          "Apr",
          "May",
          "Jun",
          "Jul",
          "Aug",
          "Sep"
         ],
         "xaxis": "x2",
         "y": [
          97575,
          80373,
          101571,
          88639,
          88086,
          92756,
          113059,
          92230,
          28401
         ],
         "yaxis": "y3"
        },
        {
         "marker": {
          "color": "purple"
         },
         "name": "2023 ACD 號碼數",
         "text": [
          75804,
          70354,
          79950,
          70822,
          84441,
          79442,
          82578,
          85046,
          77251,
          75953,
          73245,
          75240
         ],
         "textangle": 0,
         "textposition": "inside",
         "type": "bar",
         "x": [
          "Jan",
          "Feb",
          "Mar",
          "Apr",
          "May",
          "Jun",
          "Jul",
          "Aug",
          "Sep",
          "Oct",
          "Nov",
          "Dec"
         ],
         "xaxis": "x2",
         "y": [
          75804,
          70354,
          79950,
          70822,
          84441,
          79442,
          82578,
          85046,
          77251,
          75953,
          73245,
          75240
         ],
         "yaxis": "y4"
        },
        {
         "marker": {
          "color": "purple"
         },
         "name": "2024 ACD 號碼數",
         "text": [
          74079,
          60714,
          76543,
          68989,
          69728,
          68458,
          82522,
          73163,
          22772
         ],
         "textangle": 0,
         "textposition": "inside",
         "type": "bar",
         "x": [
          "Jan",
          "Feb",
          "Mar",
          "Apr",
          "May",
          "Jun",
          "Jul",
          "Aug",
          "Sep"
         ],
         "xaxis": "x2",
         "y": [
          74079,
          60714,
          76543,
          68989,
          69728,
          68458,
          82522,
          73163,
          22772
         ],
         "yaxis": "y4"
        }
       ],
       "layout": {
        "annotations": [
         {
          "font": {
           "size": 16
          },
          "showarrow": false,
          "text": "2023 vs 2024 IVR 進線數和號碼數（雙軸、同軸顯示）",
          "x": 0.47,
          "xanchor": "center",
          "xref": "paper",
          "y": 1,
          "yanchor": "bottom",
          "yref": "paper"
         },
         {
          "font": {
           "size": 16
          },
          "showarrow": false,
          "text": "2023 vs 2024 ACD 進線數和號碼數（雙軸、同軸顯示）",
          "x": 0.47,
          "xanchor": "center",
          "xref": "paper",
          "y": 0.45,
          "yanchor": "bottom",
          "yref": "paper"
         }
        ],
        "barmode": "group",
        "plot_bgcolor": "white",
        "template": {
         "data": {
          "bar": [
           {
            "error_x": {
             "color": "#2a3f5f"
            },
            "error_y": {
             "color": "#2a3f5f"
            },
            "marker": {
             "line": {
              "color": "#E5ECF6",
              "width": 0.5
             },
             "pattern": {
              "fillmode": "overlay",
              "size": 10,
              "solidity": 0.2
             }
            },
            "type": "bar"
           }
          ],
          "barpolar": [
           {
            "marker": {
             "line": {
              "color": "#E5ECF6",
              "width": 0.5
             },
             "pattern": {
              "fillmode": "overlay",
              "size": 10,
              "solidity": 0.2
             }
            },
            "type": "barpolar"
           }
          ],
          "carpet": [
           {
            "aaxis": {
             "endlinecolor": "#2a3f5f",
             "gridcolor": "white",
             "linecolor": "white",
             "minorgridcolor": "white",
             "startlinecolor": "#2a3f5f"
            },
            "baxis": {
             "endlinecolor": "#2a3f5f",
             "gridcolor": "white",
             "linecolor": "white",
             "minorgridcolor": "white",
             "startlinecolor": "#2a3f5f"
            },
            "type": "carpet"
           }
          ],
          "choropleth": [
           {
            "colorbar": {
             "outlinewidth": 0,
             "ticks": ""
            },
            "type": "choropleth"
           }
          ],
          "contour": [
           {
            "colorbar": {
             "outlinewidth": 0,
             "ticks": ""
            },
            "colorscale": [
             [
              0,
              "#0d0887"
             ],
             [
              0.1111111111111111,
              "#46039f"
             ],
             [
              0.2222222222222222,
              "#7201a8"
             ],
             [
              0.3333333333333333,
              "#9c179e"
             ],
             [
              0.4444444444444444,
              "#bd3786"
             ],
             [
              0.5555555555555556,
              "#d8576b"
             ],
             [
              0.6666666666666666,
              "#ed7953"
             ],
             [
              0.7777777777777778,
              "#fb9f3a"
             ],
             [
              0.8888888888888888,
              "#fdca26"
             ],
             [
              1,
              "#f0f921"
             ]
            ],
            "type": "contour"
           }
          ],
          "contourcarpet": [
           {
            "colorbar": {
             "outlinewidth": 0,
             "ticks": ""
            },
            "type": "contourcarpet"
           }
          ],
          "heatmap": [
           {
            "colorbar": {
             "outlinewidth": 0,
             "ticks": ""
            },
            "colorscale": [
             [
              0,
              "#0d0887"
             ],
             [
              0.1111111111111111,
              "#46039f"
             ],
             [
              0.2222222222222222,
              "#7201a8"
             ],
             [
              0.3333333333333333,
              "#9c179e"
             ],
             [
              0.4444444444444444,
              "#bd3786"
             ],
             [
              0.5555555555555556,
              "#d8576b"
             ],
             [
              0.6666666666666666,
              "#ed7953"
             ],
             [
              0.7777777777777778,
              "#fb9f3a"
             ],
             [
              0.8888888888888888,
              "#fdca26"
             ],
             [
              1,
              "#f0f921"
             ]
            ],
            "type": "heatmap"
           }
          ],
          "heatmapgl": [
           {
            "colorbar": {
             "outlinewidth": 0,
             "ticks": ""
            },
            "colorscale": [
             [
              0,
              "#0d0887"
             ],
             [
              0.1111111111111111,
              "#46039f"
             ],
             [
              0.2222222222222222,
              "#7201a8"
             ],
             [
              0.3333333333333333,
              "#9c179e"
             ],
             [
              0.4444444444444444,
              "#bd3786"
             ],
             [
              0.5555555555555556,
              "#d8576b"
             ],
             [
              0.6666666666666666,
              "#ed7953"
             ],
             [
              0.7777777777777778,
              "#fb9f3a"
             ],
             [
              0.8888888888888888,
              "#fdca26"
             ],
             [
              1,
              "#f0f921"
             ]
            ],
            "type": "heatmapgl"
           }
          ],
          "histogram": [
           {
            "marker": {
             "pattern": {
              "fillmode": "overlay",
              "size": 10,
              "solidity": 0.2
             }
            },
            "type": "histogram"
           }
          ],
          "histogram2d": [
           {
            "colorbar": {
             "outlinewidth": 0,
             "ticks": ""
            },
            "colorscale": [
             [
              0,
              "#0d0887"
             ],
             [
              0.1111111111111111,
              "#46039f"
             ],
             [
              0.2222222222222222,
              "#7201a8"
             ],
             [
              0.3333333333333333,
              "#9c179e"
             ],
             [
              0.4444444444444444,
              "#bd3786"
             ],
             [
              0.5555555555555556,
              "#d8576b"
             ],
             [
              0.6666666666666666,
              "#ed7953"
             ],
             [
              0.7777777777777778,
              "#fb9f3a"
             ],
             [
              0.8888888888888888,
              "#fdca26"
             ],
             [
              1,
              "#f0f921"
             ]
            ],
            "type": "histogram2d"
           }
          ],
          "histogram2dcontour": [
           {
            "colorbar": {
             "outlinewidth": 0,
             "ticks": ""
            },
            "colorscale": [
             [
              0,
              "#0d0887"
             ],
             [
              0.1111111111111111,
              "#46039f"
             ],
             [
              0.2222222222222222,
              "#7201a8"
             ],
             [
              0.3333333333333333,
              "#9c179e"
             ],
             [
              0.4444444444444444,
              "#bd3786"
             ],
             [
              0.5555555555555556,
              "#d8576b"
             ],
             [
              0.6666666666666666,
              "#ed7953"
             ],
             [
              0.7777777777777778,
              "#fb9f3a"
             ],
             [
              0.8888888888888888,
              "#fdca26"
             ],
             [
              1,
              "#f0f921"
             ]
            ],
            "type": "histogram2dcontour"
           }
          ],
          "mesh3d": [
           {
            "colorbar": {
             "outlinewidth": 0,
             "ticks": ""
            },
            "type": "mesh3d"
           }
          ],
          "parcoords": [
           {
            "line": {
             "colorbar": {
              "outlinewidth": 0,
              "ticks": ""
             }
            },
            "type": "parcoords"
           }
          ],
          "pie": [
           {
            "automargin": true,
            "type": "pie"
           }
          ],
          "scatter": [
           {
            "fillpattern": {
             "fillmode": "overlay",
             "size": 10,
             "solidity": 0.2
            },
            "type": "scatter"
           }
          ],
          "scatter3d": [
           {
            "line": {
             "colorbar": {
              "outlinewidth": 0,
              "ticks": ""
             }
            },
            "marker": {
             "colorbar": {
              "outlinewidth": 0,
              "ticks": ""
             }
            },
            "type": "scatter3d"
           }
          ],
          "scattercarpet": [
           {
            "marker": {
             "colorbar": {
              "outlinewidth": 0,
              "ticks": ""
             }
            },
            "type": "scattercarpet"
           }
          ],
          "scattergeo": [
           {
            "marker": {
             "colorbar": {
              "outlinewidth": 0,
              "ticks": ""
             }
            },
            "type": "scattergeo"
           }
          ],
          "scattergl": [
           {
            "marker": {
             "colorbar": {
              "outlinewidth": 0,
              "ticks": ""
             }
            },
            "type": "scattergl"
           }
          ],
          "scattermapbox": [
           {
            "marker": {
             "colorbar": {
              "outlinewidth": 0,
              "ticks": ""
             }
            },
            "type": "scattermapbox"
           }
          ],
          "scatterpolar": [
           {
            "marker": {
             "colorbar": {
              "outlinewidth": 0,
              "ticks": ""
             }
            },
            "type": "scatterpolar"
           }
          ],
          "scatterpolargl": [
           {
            "marker": {
             "colorbar": {
              "outlinewidth": 0,
              "ticks": ""
             }
            },
            "type": "scatterpolargl"
           }
          ],
          "scatterternary": [
           {
            "marker": {
             "colorbar": {
              "outlinewidth": 0,
              "ticks": ""
             }
            },
            "type": "scatterternary"
           }
          ],
          "surface": [
           {
            "colorbar": {
             "outlinewidth": 0,
             "ticks": ""
            },
            "colorscale": [
             [
              0,
              "#0d0887"
             ],
             [
              0.1111111111111111,
              "#46039f"
             ],
             [
              0.2222222222222222,
              "#7201a8"
             ],
             [
              0.3333333333333333,
              "#9c179e"
             ],
             [
              0.4444444444444444,
              "#bd3786"
             ],
             [
              0.5555555555555556,
              "#d8576b"
             ],
             [
              0.6666666666666666,
              "#ed7953"
             ],
             [
              0.7777777777777778,
              "#fb9f3a"
             ],
             [
              0.8888888888888888,
              "#fdca26"
             ],
             [
              1,
              "#f0f921"
             ]
            ],
            "type": "surface"
           }
          ],
          "table": [
           {
            "cells": {
             "fill": {
              "color": "#EBF0F8"
             },
             "line": {
              "color": "white"
             }
            },
            "header": {
             "fill": {
              "color": "#C8D4E3"
             },
             "line": {
              "color": "white"
             }
            },
            "type": "table"
           }
          ]
         },
         "layout": {
          "annotationdefaults": {
           "arrowcolor": "#2a3f5f",
           "arrowhead": 0,
           "arrowwidth": 1
          },
          "autotypenumbers": "strict",
          "coloraxis": {
           "colorbar": {
            "outlinewidth": 0,
            "ticks": ""
           }
          },
          "colorscale": {
           "diverging": [
            [
             0,
             "#8e0152"
            ],
            [
             0.1,
             "#c51b7d"
            ],
            [
             0.2,
             "#de77ae"
            ],
            [
             0.3,
             "#f1b6da"
            ],
            [
             0.4,
             "#fde0ef"
            ],
            [
             0.5,
             "#f7f7f7"
            ],
            [
             0.6,
             "#e6f5d0"
            ],
            [
             0.7,
             "#b8e186"
            ],
            [
             0.8,
             "#7fbc41"
            ],
            [
             0.9,
             "#4d9221"
            ],
            [
             1,
             "#276419"
            ]
           ],
           "sequential": [
            [
             0,
             "#0d0887"
            ],
            [
             0.1111111111111111,
             "#46039f"
            ],
            [
             0.2222222222222222,
             "#7201a8"
            ],
            [
             0.3333333333333333,
             "#9c179e"
            ],
            [
             0.4444444444444444,
             "#bd3786"
            ],
            [
             0.5555555555555556,
             "#d8576b"
            ],
            [
             0.6666666666666666,
             "#ed7953"
            ],
            [
             0.7777777777777778,
             "#fb9f3a"
            ],
            [
             0.8888888888888888,
             "#fdca26"
            ],
            [
             1,
             "#f0f921"
            ]
           ],
           "sequentialminus": [
            [
             0,
             "#0d0887"
            ],
            [
             0.1111111111111111,
             "#46039f"
            ],
            [
             0.2222222222222222,
             "#7201a8"
            ],
            [
             0.3333333333333333,
             "#9c179e"
            ],
            [
             0.4444444444444444,
             "#bd3786"
            ],
            [
             0.5555555555555556,
             "#d8576b"
            ],
            [
             0.6666666666666666,
             "#ed7953"
            ],
            [
             0.7777777777777778,
             "#fb9f3a"
            ],
            [
             0.8888888888888888,
             "#fdca26"
            ],
            [
             1,
             "#f0f921"
            ]
           ]
          },
          "colorway": [
           "#636efa",
           "#EF553B",
           "#00cc96",
           "#ab63fa",
           "#FFA15A",
           "#19d3f3",
           "#FF6692",
           "#B6E880",
           "#FF97FF",
           "#FECB52"
          ],
          "font": {
           "color": "#2a3f5f"
          },
          "geo": {
           "bgcolor": "white",
           "lakecolor": "white",
           "landcolor": "#E5ECF6",
           "showlakes": true,
           "showland": true,
           "subunitcolor": "white"
          },
          "hoverlabel": {
           "align": "left"
          },
          "hovermode": "closest",
          "mapbox": {
           "style": "light"
          },
          "paper_bgcolor": "white",
          "plot_bgcolor": "#E5ECF6",
          "polar": {
           "angularaxis": {
            "gridcolor": "white",
            "linecolor": "white",
            "ticks": ""
           },
           "bgcolor": "#E5ECF6",
           "radialaxis": {
            "gridcolor": "white",
            "linecolor": "white",
            "ticks": ""
           }
          },
          "scene": {
           "xaxis": {
            "backgroundcolor": "#E5ECF6",
            "gridcolor": "white",
            "gridwidth": 2,
            "linecolor": "white",
            "showbackground": true,
            "ticks": "",
            "zerolinecolor": "white"
           },
           "yaxis": {
            "backgroundcolor": "#E5ECF6",
            "gridcolor": "white",
            "gridwidth": 2,
            "linecolor": "white",
            "showbackground": true,
            "ticks": "",
            "zerolinecolor": "white"
           },
           "zaxis": {
            "backgroundcolor": "#E5ECF6",
            "gridcolor": "white",
            "gridwidth": 2,
            "linecolor": "white",
            "showbackground": true,
            "ticks": "",
            "zerolinecolor": "white"
           }
          },
          "shapedefaults": {
           "line": {
            "color": "#2a3f5f"
           }
          },
          "ternary": {
           "aaxis": {
            "gridcolor": "white",
            "linecolor": "white",
            "ticks": ""
           },
           "baxis": {
            "gridcolor": "white",
            "linecolor": "white",
            "ticks": ""
           },
           "bgcolor": "#E5ECF6",
           "caxis": {
            "gridcolor": "white",
            "linecolor": "white",
            "ticks": ""
           }
          },
          "title": {
           "x": 0.05
          },
          "xaxis": {
           "automargin": true,
           "gridcolor": "white",
           "linecolor": "white",
           "ticks": "",
           "title": {
            "standoff": 15
           },
           "zerolinecolor": "white",
           "zerolinewidth": 2
          },
          "yaxis": {
           "automargin": true,
           "gridcolor": "white",
           "linecolor": "white",
           "ticks": "",
           "title": {
            "standoff": 15
           },
           "zerolinecolor": "white",
           "zerolinewidth": 2
          }
         }
        },
        "title": {
         "text": ""
        },
        "xaxis": {
         "anchor": "y",
         "domain": [
          0,
          0.94
         ],
         "matches": "x2",
         "showticklabels": false,
         "title": {
          "text": "月份"
         }
        },
        "xaxis2": {
         "anchor": "y3",
         "domain": [
          0,
          0.94
         ],
         "title": {
          "text": "月份"
         }
        },
        "yaxis": {
         "anchor": "x",
         "domain": [
          0.55,
          1
         ],
         "range": [
          0,
          215547.2
         ],
         "showgrid": true,
         "title": {
          "text": "IVR 進線數"
         }
        },
        "yaxis2": {
         "anchor": "x",
         "overlaying": "y",
         "range": [
          0,
          215547.2
         ],
         "showgrid": false,
         "side": "right",
         "title": {
          "text": "IVR 號碼數"
         }
        },
        "yaxis3": {
         "anchor": "x2",
         "domain": [
          0,
          0.45
         ],
         "range": [
          0,
          124732.3
         ],
         "showgrid": true,
         "title": {
          "text": "ACD 進線數"
         }
        },
        "yaxis4": {
         "anchor": "x2",
         "overlaying": "y3",
         "range": [
          0,
          124732.3
         ],
         "showgrid": false,
         "side": "right",
         "title": {
          "text": "ACD 號碼數"
         }
        }
       }
      }
     },
     "metadata": {},
     "output_type": "display_data"
    }
   ],
   "source": [
    "import pandas as pd\n",
    "from plotly.subplots import make_subplots\n",
    "import plotly.graph_objects as go\n",
    "\n",
    "# 假設你的 IVR_ACD_data 是一個 pandas DataFrame\n",
    "# 首先我們需要從 DATES 提取年份和月份\n",
    "IVR_ACD_data['year'] = pd.to_datetime(IVR_ACD_data['DATES']).dt.year\n",
    "IVR_ACD_data['month_order'] = pd.to_datetime(IVR_ACD_data['DATES']).dt.month  # 使用月份的數字排序\n",
    "IVR_ACD_data['month'] = pd.to_datetime(IVR_ACD_data['DATES']).dt.strftime('%b')  # 使用月份的縮寫形式\n",
    "\n",
    "# 接下來，我們僅對數值欄位進行聚合，避免對日期欄位進行 sum 操作\n",
    "grouped_data = IVR_ACD_data.groupby(['year', 'month_order', 'month'])[['ivr_count', 'acd_count', 'ivr_number_count', 'acd_number_count']].sum().reset_index()\n",
    "\n",
    "# 分開2023年和2024年的數據\n",
    "data_2023 = grouped_data[grouped_data['year'] == 2023].sort_values(by='month_order')\n",
    "data_2024 = grouped_data[grouped_data['year'] == 2024].sort_values(by='month_order')\n",
    "\n",
    "# 建立雙軸圖表，兩排\n",
    "fig = make_subplots(\n",
    "    rows=2, cols=1, \n",
    "    shared_xaxes=True,\n",
    "    vertical_spacing=0.1,\n",
    "    subplot_titles=('2023 vs 2024 IVR 進線數和號碼數（雙軸、同軸顯示）', '2023 vs 2024 ACD 進線數和號碼數（雙軸、同軸顯示）'),\n",
    "    specs=[[{\"secondary_y\": True}], [{\"secondary_y\": True}]]\n",
    ")\n",
    "\n",
    "# IVR 數據\n",
    "# 第一排 - IVR 進線數，並顯示數值標籤在 bar 上方\n",
    "fig.add_trace(go.Bar(x=data_2023['month'], y=data_2023['ivr_count'], name='2023 IVR 進線數', marker_color='lightblue', text=data_2023['ivr_count'], textposition='outside'), row=1, col=1, secondary_y=False)\n",
    "fig.add_trace(go.Bar(x=data_2024['month'], y=data_2024['ivr_count'], name='2024 IVR 進線數', marker_color='lightblue', text=data_2024['ivr_count'], textposition='outside'), row=1, col=1, secondary_y=False)\n",
    "# 第一排 - IVR 號碼數，並顯示數值標籤在 bar 底部且為水平\n",
    "fig.add_trace(go.Bar(x=data_2023['month'], y=data_2023['ivr_number_count'], name='2023 IVR 號碼數', marker_color='darkblue', text=data_2023['ivr_number_count'], textposition='inside', textangle=0), row=1, col=1, secondary_y=True)\n",
    "fig.add_trace(go.Bar(x=data_2024['month'], y=data_2024['ivr_number_count'], name='2024 IVR 號碼數', marker_color='darkblue', text=data_2024['ivr_number_count'], textposition='inside', textangle=0), row=1, col=1, secondary_y=True)\n",
    "\n",
    "# ACD 數據\n",
    "# 第二排 - ACD 進線數，並顯示數值標籤在 bar 上方\n",
    "fig.add_trace(go.Bar(x=data_2023['month'], y=data_2023['acd_count'], name='2023 ACD 進線數', marker_color='#dda0dd', text=data_2023['acd_count'], textposition='outside'), row=2, col=1, secondary_y=False)\n",
    "fig.add_trace(go.Bar(x=data_2024['month'], y=data_2024['acd_count'], name='2024 ACD 進線數', marker_color='#dda0dd', text=data_2024['acd_count'], textposition='outside'), row=2, col=1, secondary_y=False)\n",
    "# 第二排 - ACD 號碼數，並顯示數值標籤在 bar 底部且為水平\n",
    "fig.add_trace(go.Bar(x=data_2023['month'], y=data_2023['acd_number_count'], name='2023 ACD 號碼數', marker_color='purple', text=data_2023['acd_number_count'], textposition='inside', textangle=0), row=2, col=1, secondary_y=True)\n",
    "fig.add_trace(go.Bar(x=data_2024['month'], y=data_2024['acd_number_count'], name='2024 ACD 號碼數', marker_color='purple', text=data_2024['acd_number_count'], textposition='inside', textangle=0), row=2, col=1, secondary_y=True)\n",
    "\n",
    "# 設置雙軸標題\n",
    "fig.update_yaxes(title_text=\"IVR 進線數\", secondary_y=False, row=1, col=1)\n",
    "fig.update_yaxes(title_text=\"IVR 號碼數\", secondary_y=True, row=1, col=1)\n",
    "\n",
    "fig.update_yaxes(title_text=\"ACD 進線數\", secondary_y=False, row=2, col=1)\n",
    "fig.update_yaxes(title_text=\"ACD 號碼數\", secondary_y=True, row=2, col=1)\n",
    "\n",
    "# 找到 y 軸數據中的最大值，為避免超出範圍，我們將範圍設置略大於最大值\n",
    "max_y_value = max(data_2023['ivr_count'].max(), data_2024['ivr_count'].max(), data_2023['ivr_number_count'].max(), data_2024['ivr_number_count'].max()) * 1.1\n",
    "\n",
    "# 更新佈局，確保雙軸範圍一致\n",
    "fig.update_layout(\n",
    "    title_text=\"\",\n",
    "    xaxis_title=\"月份\",\n",
    "    yaxis_title=\"IVR 進線數\",\n",
    "    yaxis2_title=\"IVR 號碼數\",\n",
    "    barmode='group',  # 並列顯示不同年份的數據\n",
    "    plot_bgcolor='white',\n",
    "    yaxis=dict(range=[0, max_y_value], showgrid=True),  # 左側 Y 軸設置範圍\n",
    "    yaxis2=dict(range=[0, max_y_value], overlaying='y', side='right', showgrid=False),  # 右側 Y 軸設置範圍，與左側同軸\n",
    ")\n",
    "\n",
    "# 類似地，處理 ACD 數據的 Y 軸範圍\n",
    "max_acd_value = max(data_2023['acd_count'].max(), data_2024['acd_count'].max(), data_2023['acd_number_count'].max(), data_2024['acd_number_count'].max()) * 1.1\n",
    "\n",
    "# 更新 ACD 圖表的雙軸佈局\n",
    "fig.update_layout(\n",
    "    xaxis2_title=\"月份\",\n",
    "    yaxis3=dict(range=[0, max_acd_value], showgrid=True, title=\"ACD 進線數\"),\n",
    "    yaxis4=dict(range=[0, max_acd_value], overlaying='y3', side='right', showgrid=False, title=\"ACD 號碼數\")\n",
    ")\n",
    "\n",
    "fig.show()\n"
   ]
  },
  {
   "cell_type": "code",
   "execution_count": 4,
   "metadata": {},
   "outputs": [
    {
     "name": "stderr",
     "output_type": "stream",
     "text": [
      "C:\\Users\\beiru.wang\\AppData\\Local\\Temp\\ipykernel_23032\\3719150304.py:15: FutureWarning:\n",
      "\n",
      "'M' is deprecated and will be removed in a future version, please use 'ME' instead.\n",
      "\n"
     ]
    },
    {
     "data": {
      "text/html": [
       "\n",
       "        <iframe\n",
       "            width=\"100%\"\n",
       "            height=\"650\"\n",
       "            src=\"http://127.0.0.1:8050/\"\n",
       "            frameborder=\"0\"\n",
       "            allowfullscreen\n",
       "            \n",
       "        ></iframe>\n",
       "        "
      ],
      "text/plain": [
       "<IPython.lib.display.IFrame at 0x2aecfc29340>"
      ]
     },
     "metadata": {},
     "output_type": "display_data"
    }
   ],
   "source": [
    "import pandas as pd\n",
    "from plotly.subplots import make_subplots\n",
    "import plotly.graph_objects as go\n",
    "from dash import dcc, html, Input, Output\n",
    "import dash\n",
    "import io\n",
    "import flask\n",
    "\n",
    "# 初始化 Dash 應用\n",
    "app = dash.Dash(__name__)\n",
    "\n",
    "# 假設你的 IVR_ACD_data 是一個 pandas DataFrame\n",
    "# 這裡是數據處理部分\n",
    "IVR_ACD_data = pd.DataFrame({\n",
    "    'DATES': pd.date_range(start='2023-01-01', periods=10, freq='M'),\n",
    "    'ivr_count': [100, 150, 120, 130, 110, 115, 140, 160, 170, 180],\n",
    "    'acd_count': [200, 250, 230, 240, 220, 210, 230, 250, 260, 270],\n",
    "    'ivr_number_count': [50, 60, 55, 65, 50, 55, 70, 75, 80, 85],\n",
    "    'acd_number_count': [80, 85, 82, 88, 83, 81, 86, 90, 92, 95]\n",
    "})\n",
    "\n",
    "IVR_ACD_data['year'] = pd.to_datetime(IVR_ACD_data['DATES']).dt.year\n",
    "IVR_ACD_data['month_order'] = pd.to_datetime(IVR_ACD_data['DATES']).dt.month  # 使用月份的數字排序\n",
    "IVR_ACD_data['month'] = pd.to_datetime(IVR_ACD_data['DATES']).dt.strftime('%b')  # 使用月份的縮寫形式\n",
    "\n",
    "grouped_data = IVR_ACD_data.groupby(['year', 'month_order', 'month'])[['ivr_count', 'acd_count', 'ivr_number_count', 'acd_number_count']].sum().reset_index()\n",
    "\n",
    "# 分開2023年和2024年的數據\n",
    "data_2023 = grouped_data[grouped_data['year'] == 2023].sort_values(by='month_order')\n",
    "data_2024 = grouped_data[grouped_data['year'] == 2024].sort_values(by='month_order')\n",
    "\n",
    "# 建立雙軸圖表，兩排\n",
    "fig = make_subplots(\n",
    "    rows=2, cols=1, \n",
    "    shared_xaxes=True,\n",
    "    vertical_spacing=0.1,\n",
    "    subplot_titles=('2023 vs 2024 IVR 進線數和號碼數（雙軸、同軸顯示）', '2023 vs 2024 ACD 進線數和號碼數（雙軸、同軸顯示）'),\n",
    "    specs=[[{\"secondary_y\": True}], [{\"secondary_y\": True}]]\n",
    ")\n",
    "\n",
    "# IVR 數據\n",
    "fig.add_trace(go.Bar(x=data_2023['month'], y=data_2023['ivr_count'], name='2023 IVR 進線數', marker_color='lightblue', text=data_2023['ivr_count'], textposition='outside'), row=1, col=1, secondary_y=False)\n",
    "fig.add_trace(go.Bar(x=data_2024['month'], y=data_2024['ivr_count'], name='2024 IVR 進線數', marker_color='lightblue', text=data_2024['ivr_count'], textposition='outside'), row=1, col=1, secondary_y=False)\n",
    "fig.add_trace(go.Bar(x=data_2023['month'], y=data_2023['ivr_number_count'], name='2023 IVR 號碼數', marker_color='darkblue', text=data_2023['ivr_number_count'], textposition='inside', textangle=0), row=1, col=1, secondary_y=True)\n",
    "fig.add_trace(go.Bar(x=data_2024['month'], y=data_2024['ivr_number_count'], name='2024 IVR 號碼數', marker_color='darkblue', text=data_2024['ivr_number_count'], textposition='inside', textangle=0), row=1, col=1, secondary_y=True)\n",
    "\n",
    "# ACD 數據\n",
    "fig.add_trace(go.Bar(x=data_2023['month'], y=data_2023['acd_count'], name='2023 ACD 進線數', marker_color='#dda0dd', text=data_2023['acd_count'], textposition='outside'), row=2, col=1, secondary_y=False)\n",
    "fig.add_trace(go.Bar(x=data_2024['month'], y=data_2024['acd_count'], name='2024 ACD 進線數', marker_color='#dda0dd', text=data_2024['acd_count'], textposition='outside'), row=2, col=1, secondary_y=False)\n",
    "fig.add_trace(go.Bar(x=data_2023['month'], y=data_2023['acd_number_count'], name='2023 ACD 號碼數', marker_color='purple', text=data_2023['acd_number_count'], textposition='inside', textangle=0), row=2, col=1, secondary_y=True)\n",
    "fig.add_trace(go.Bar(x=data_2024['month'], y=data_2024['acd_number_count'], name='2024 ACD 號碼數', marker_color='purple', text=data_2024['acd_number_count'], textposition='inside', textangle=0), row=2, col=1, secondary_y=True)\n",
    "\n",
    "# 設置雙軸標題\n",
    "fig.update_yaxes(title_text=\"IVR 進線數\", secondary_y=False, row=1, col=1)\n",
    "fig.update_yaxes(title_text=\"IVR 號碼數\", secondary_y=True, row=1, col=1)\n",
    "fig.update_yaxes(title_text=\"ACD 進線數\", secondary_y=False, row=2, col=1)\n",
    "fig.update_yaxes(title_text=\"ACD 號碼數\", secondary_y=True, row=2, col=1)\n",
    "\n",
    "# 設置佈局\n",
    "fig.update_layout(\n",
    "    title_text=\"2023 vs 2024 IVR 和 ACD 數據比較\",\n",
    "    barmode='group',\n",
    "    plot_bgcolor='white'\n",
    ")\n",
    "\n",
    "# 定義 Dash 應用的佈局，增加下載按鈕\n",
    "app.layout = html.Div(children=[\n",
    "    html.H1(children='IVR 和 ACD 數據儀表板'),\n",
    "    dcc.Graph(\n",
    "        id='ivr-acd-graph',\n",
    "        figure=fig\n",
    "    ),\n",
    "    html.Button(\"下載數據\", id=\"btn_csv\"),\n",
    "    dcc.Download(id=\"download-dataframe-csv\")\n",
    "])\n",
    "\n",
    "# 回調函數來處理下載動作\n",
    "@app.callback(\n",
    "    Output(\"download-dataframe-csv\", \"data\"),\n",
    "    Input(\"btn_csv\", \"n_clicks\"),\n",
    "    prevent_initial_call=True,\n",
    ")\n",
    "def generate_csv(n_clicks):\n",
    "    # 將數據轉換為 CSV 文件\n",
    "    return dcc.send_data_frame(grouped_data.to_csv, \"ivr_acd_data.csv\")\n",
    "\n",
    "# 啟動應用\n",
    "if __name__ == '__main__':\n",
    "    app.run_server(debug=True)\n"
   ]
  },
  {
   "cell_type": "code",
   "execution_count": null,
   "metadata": {},
   "outputs": [],
   "source": []
  }
 ],
 "metadata": {
  "kernelspec": {
   "display_name": "base",
   "language": "python",
   "name": "python3"
  },
  "language_info": {
   "codemirror_mode": {
    "name": "ipython",
    "version": 3
   },
   "file_extension": ".py",
   "mimetype": "text/x-python",
   "name": "python",
   "nbconvert_exporter": "python",
   "pygments_lexer": "ipython3",
   "version": "3.9.13"
  }
 },
 "nbformat": 4,
 "nbformat_minor": 2
}
